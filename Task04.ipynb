{
  "cells": [
    {
      "cell_type": "markdown",
      "metadata": {
        "id": "view-in-github",
        "colab_type": "text"
      },
      "source": [
        "<a href=\"https://colab.research.google.com/github/faaizali124/DEP/blob/main/Task04.ipynb\" target=\"_parent\"><img src=\"https://colab.research.google.com/assets/colab-badge.svg\" alt=\"Open In Colab\"/></a>"
      ]
    },
    {
      "cell_type": "code",
      "execution_count": 12,
      "metadata": {
        "id": "JRR4ZzfsnGBp"
      },
      "outputs": [],
      "source": [
        "import tensorflow as tf\n",
        "from tensorflow.keras import datasets, layers, models\n",
        "from sklearn.metrics import classification_report\n",
        "import matplotlib.pyplot as plt\n",
        "import numpy as np"
      ]
    },
    {
      "cell_type": "code",
      "execution_count": 13,
      "metadata": {
        "id": "3E_Xj_hGnY9h"
      },
      "outputs": [],
      "source": [
        "(X_train,Y_train),(X_test,Y_test) = datasets.cifar10.load_data()"
      ]
    },
    {
      "cell_type": "code",
      "source": [
        "print(X_train.shape)\n",
        "print(Y_train.shape)\n",
        "print(X_test.shape)\n",
        "print(Y_test.shape)"
      ],
      "metadata": {
        "colab": {
          "base_uri": "https://localhost:8080/"
        },
        "id": "AKWrEQjKo_ui",
        "outputId": "0620e65d-2800-4e19-df29-b22f7b747bfe"
      },
      "execution_count": 14,
      "outputs": [
        {
          "output_type": "stream",
          "name": "stdout",
          "text": [
            "(50000, 32, 32, 3)\n",
            "(50000, 1)\n",
            "(10000, 32, 32, 3)\n",
            "(10000, 1)\n"
          ]
        }
      ]
    },
    {
      "cell_type": "code",
      "source": [
        "Y_train[:5]"
      ],
      "metadata": {
        "colab": {
          "base_uri": "https://localhost:8080/"
        },
        "id": "82FVFx_ypIO_",
        "outputId": "c12b0337-3e53-425b-e48e-b7dc07f55c9b"
      },
      "execution_count": 15,
      "outputs": [
        {
          "output_type": "execute_result",
          "data": {
            "text/plain": [
              "array([[6],\n",
              "       [9],\n",
              "       [9],\n",
              "       [4],\n",
              "       [1]], dtype=uint8)"
            ]
          },
          "metadata": {},
          "execution_count": 15
        }
      ]
    },
    {
      "cell_type": "code",
      "source": [
        "Y_train = Y_train.reshape(-1,)\n",
        "Y_train[:5]"
      ],
      "metadata": {
        "colab": {
          "base_uri": "https://localhost:8080/"
        },
        "id": "C-b5yNX6smg0",
        "outputId": "42b9fa85-4041-4908-f71d-54b6b9b115a7"
      },
      "execution_count": 28,
      "outputs": [
        {
          "output_type": "execute_result",
          "data": {
            "text/plain": [
              "array([6, 9, 9, 4, 1], dtype=uint8)"
            ]
          },
          "metadata": {},
          "execution_count": 28
        }
      ]
    },
    {
      "cell_type": "code",
      "source": [
        "X_train[1]"
      ],
      "metadata": {
        "colab": {
          "base_uri": "https://localhost:8080/"
        },
        "id": "Mg-17YGJpOlh",
        "outputId": "35b5c8e8-7c47-406b-f497-6cf765659ba2"
      },
      "execution_count": 29,
      "outputs": [
        {
          "output_type": "execute_result",
          "data": {
            "text/plain": [
              "array([[[0.60392157, 0.69411765, 0.73333333],\n",
              "        [0.49411765, 0.5372549 , 0.53333333],\n",
              "        [0.41176471, 0.40784314, 0.37254902],\n",
              "        ...,\n",
              "        [0.35686275, 0.37254902, 0.27843137],\n",
              "        [0.34117647, 0.35294118, 0.27843137],\n",
              "        [0.30980392, 0.31764706, 0.2745098 ]],\n",
              "\n",
              "       [[0.54901961, 0.62745098, 0.6627451 ],\n",
              "        [0.56862745, 0.6       , 0.60392157],\n",
              "        [0.49019608, 0.49019608, 0.4627451 ],\n",
              "        ...,\n",
              "        [0.37647059, 0.38823529, 0.30588235],\n",
              "        [0.30196078, 0.31372549, 0.24313725],\n",
              "        [0.27843137, 0.28627451, 0.23921569]],\n",
              "\n",
              "       [[0.54901961, 0.60784314, 0.64313725],\n",
              "        [0.54509804, 0.57254902, 0.58431373],\n",
              "        [0.45098039, 0.45098039, 0.43921569],\n",
              "        ...,\n",
              "        [0.30980392, 0.32156863, 0.25098039],\n",
              "        [0.26666667, 0.2745098 , 0.21568627],\n",
              "        [0.2627451 , 0.27058824, 0.21568627]],\n",
              "\n",
              "       ...,\n",
              "\n",
              "       [[0.68627451, 0.65490196, 0.65098039],\n",
              "        [0.61176471, 0.60392157, 0.62745098],\n",
              "        [0.60392157, 0.62745098, 0.66666667],\n",
              "        ...,\n",
              "        [0.16470588, 0.13333333, 0.14117647],\n",
              "        [0.23921569, 0.20784314, 0.22352941],\n",
              "        [0.36470588, 0.3254902 , 0.35686275]],\n",
              "\n",
              "       [[0.64705882, 0.60392157, 0.50196078],\n",
              "        [0.61176471, 0.59607843, 0.50980392],\n",
              "        [0.62352941, 0.63137255, 0.55686275],\n",
              "        ...,\n",
              "        [0.40392157, 0.36470588, 0.37647059],\n",
              "        [0.48235294, 0.44705882, 0.47058824],\n",
              "        [0.51372549, 0.4745098 , 0.51372549]],\n",
              "\n",
              "       [[0.63921569, 0.58039216, 0.47058824],\n",
              "        [0.61960784, 0.58039216, 0.47843137],\n",
              "        [0.63921569, 0.61176471, 0.52156863],\n",
              "        ...,\n",
              "        [0.56078431, 0.52156863, 0.54509804],\n",
              "        [0.56078431, 0.5254902 , 0.55686275],\n",
              "        [0.56078431, 0.52156863, 0.56470588]]])"
            ]
          },
          "metadata": {},
          "execution_count": 29
        }
      ]
    },
    {
      "cell_type": "code",
      "source": [
        "classes = ['airplane', 'automobile', 'bird', 'cat', 'deer', 'dog', 'frog', 'horse', 'ship', 'truck']"
      ],
      "metadata": {
        "id": "o7oiretypg_-"
      },
      "execution_count": 31,
      "outputs": []
    },
    {
      "cell_type": "code",
      "source": [
        "classes[9]"
      ],
      "metadata": {
        "colab": {
          "base_uri": "https://localhost:8080/",
          "height": 35
        },
        "id": "erx4I9MZp79B",
        "outputId": "d5a500fa-7353-4154-fefb-a13ef95564fb"
      },
      "execution_count": 32,
      "outputs": [
        {
          "output_type": "execute_result",
          "data": {
            "text/plain": [
              "'truck'"
            ],
            "application/vnd.google.colaboratory.intrinsic+json": {
              "type": "string"
            }
          },
          "metadata": {},
          "execution_count": 32
        }
      ]
    },
    {
      "cell_type": "code",
      "source": [
        "def plot_sample(X,Y,index):\n",
        "  plt.figure(figsize=(15,2))\n",
        "  plt.imshow(X[index])\n",
        "  plt.xlabel(classes[Y[index]])"
      ],
      "metadata": {
        "id": "YiHiaxJvp_oL"
      },
      "execution_count": 40,
      "outputs": []
    },
    {
      "cell_type": "code",
      "source": [
        "plot_sample(X_train, Y_train, 0)"
      ],
      "metadata": {
        "colab": {
          "base_uri": "https://localhost:8080/",
          "height": 237
        },
        "id": "sseeWS2OqUT3",
        "outputId": "ffe8252e-176c-4a6e-a4fd-f5949f5b6b11"
      },
      "execution_count": 41,
      "outputs": [
        {
          "output_type": "display_data",
          "data": {
            "text/plain": [
              "<Figure size 1500x200 with 1 Axes>"
            ],
            "image/png": "[encoded data removed]"
          },
          "metadata": {}
        }
      ]
    },
    {
      "cell_type": "code",
      "source": [
        "plot_sample(X_train, Y_train, 1)"
      ],
      "metadata": {
        "colab": {
          "base_uri": "https://localhost:8080/",
          "height": 237
        },
        "id": "JNhvVuIuqaUs",
        "outputId": "fadfa908-b99b-4270-cd80-28169b1a858e"
      },
      "execution_count": 42,
      "outputs": [
        {
          "output_type": "display_data",
          "data": {
            "text/plain": [
              "<Figure size 1500x200 with 1 Axes>"
            ],
            "image/png": "[encoded data removed]"
          },
          "metadata": {}
        }
      ]
    },
    {
      "cell_type": "code",
      "source": [
        "X_train, X_test = X_train / 255.0, X_test / 255.0"
      ],
      "metadata": {
        "id": "k4fr-9pXr7uz"
      },
      "execution_count": 36,
      "outputs": []
    },
    {
      "cell_type": "code",
      "source": [
        "cnn = models.Sequential([\n",
        "    layers.Conv2D(filters=32, kernel_size=(3, 3), activation='relu', input_shape=(32, 32, 3)),\n",
        "    layers.MaxPooling2D((2, 2)),\n",
        "\n",
        "    layers.Conv2D(filters=64, kernel_size=(3, 3), activation='relu'),\n",
        "    layers.MaxPooling2D((2, 2)),\n",
        "\n",
        "    layers.Conv2D(filters=128, kernel_size=(3, 3), activation='relu'),\n",
        "    layers.MaxPooling2D((2, 2)),\n",
        "\n",
        "    layers.Flatten(),\n",
        "    layers.Dense(64, activation='relu'),\n",
        "    layers.Dense(10, activation='softmax')\n",
        "])"
      ],
      "metadata": {
        "colab": {
          "base_uri": "https://localhost:8080/"
        },
        "id": "zIivLAmnsC-7",
        "outputId": "bc613ef5-ee7a-4a5d-d3a6-78db7bd525c4"
      },
      "execution_count": 43,
      "outputs": [
        {
          "output_type": "stream",
          "name": "stderr",
          "text": [
            "/usr/local/lib/python3.10/dist-packages/keras/src/layers/convolutional/base_conv.py:107: UserWarning: Do not pass an `input_shape`/`input_dim` argument to a layer. When using Sequential models, prefer using an `Input(shape)` object as the first layer in the model instead.\n",
            "  super().__init__(activity_regularizer=activity_regularizer, **kwargs)\n"
          ]
        }
      ]
    },
    {
      "cell_type": "code",
      "source": [
        "cnn.compile(optimizer='adam',\n",
        "              loss='sparse_categorical_crossentropy',\n",
        "              metrics=['accuracy'])"
      ],
      "metadata": {
        "id": "ckS0YNtLuA82"
      },
      "execution_count": 44,
      "outputs": []
    },
    {
      "cell_type": "code",
      "source": [
        "cnn.fit(X_train, Y_train, epochs = 10)"
      ],
      "metadata": {
        "colab": {
          "base_uri": "https://localhost:8080/"
        },
        "id": "mdAu9z-4umCn",
        "outputId": "4a098541-666a-4ea2-baf8-216e8f76b4f6"
      },
      "execution_count": null,
      "outputs": [
        {
          "output_type": "stream",
          "name": "stdout",
          "text": [
            "Epoch 1/10\n",
            "\u001b[1m1563/1563\u001b[0m \u001b[32m━━━━━━━━━━━━━━━━━━━━\u001b[0m\u001b[37m\u001b[0m \u001b[1m75s\u001b[0m 47ms/step - accuracy: 0.1614 - loss: 2.2014\n",
            "Epoch 2/10\n",
            "\u001b[1m1563/1563\u001b[0m \u001b[32m━━━━━━━━━━━━━━━━━━━━\u001b[0m\u001b[37m\u001b[0m \u001b[1m88s\u001b[0m 51ms/step - accuracy: 0.3256 - loss: 1.8729\n",
            "Epoch 3/10\n",
            "\u001b[1m1563/1563\u001b[0m \u001b[32m━━━━━━━━━━━━━━━━━━━━\u001b[0m\u001b[37m\u001b[0m \u001b[1m88s\u001b[0m 55ms/step - accuracy: 0.3564 - loss: 1.7762\n",
            "Epoch 4/10\n",
            "\u001b[1m1563/1563\u001b[0m \u001b[32m━━━━━━━━━━━━━━━━━━━━\u001b[0m\u001b[37m\u001b[0m \u001b[1m130s\u001b[0m 47ms/step - accuracy: 0.3807 - loss: 1.7020\n",
            "Epoch 5/10\n",
            "\u001b[1m1563/1563\u001b[0m \u001b[32m━━━━━━━━━━━━━━━━━━━━\u001b[0m\u001b[37m\u001b[0m \u001b[1m80s\u001b[0m 46ms/step - accuracy: 0.4019 - loss: 1.6528\n",
            "Epoch 6/10\n",
            "\u001b[1m1563/1563\u001b[0m \u001b[32m━━━━━━━━━━━━━━━━━━━━\u001b[0m\u001b[37m\u001b[0m \u001b[1m74s\u001b[0m 47ms/step - accuracy: 0.4137 - loss: 1.6148\n",
            "Epoch 7/10\n",
            "\u001b[1m1563/1563\u001b[0m \u001b[32m━━━━━━━━━━━━━━━━━━━━\u001b[0m\u001b[37m\u001b[0m \u001b[1m80s\u001b[0m 46ms/step - accuracy: 0.4327 - loss: 1.5843\n",
            "Epoch 8/10\n",
            "\u001b[1m1563/1563\u001b[0m \u001b[32m━━━━━━━━━━━━━━━━━━━━\u001b[0m\u001b[37m\u001b[0m \u001b[1m85s\u001b[0m 48ms/step - accuracy: 0.4443 - loss: 1.5388\n",
            "Epoch 9/10\n",
            "\u001b[1m1563/1563\u001b[0m \u001b[32m━━━━━━━━━━━━━━━━━━━━\u001b[0m\u001b[37m\u001b[0m \u001b[1m78s\u001b[0m 46ms/step - accuracy: 0.4505 - loss: 1.5180\n",
            "Epoch 10/10\n",
            "\u001b[1m 596/1563\u001b[0m \u001b[32m━━━━━━━\u001b[0m\u001b[37m━━━━━━━━━━━━━\u001b[0m \u001b[1m43s\u001b[0m 45ms/step - accuracy: 0.4641 - loss: 1.4917"
          ]
        }
      ]
    },
    {
      "cell_type": "code",
      "source": [
        "Y_test[:5]"
      ],
      "metadata": {
        "id": "WCY7DtZWuvak"
      },
      "execution_count": null,
      "outputs": []
    },
    {
      "cell_type": "code",
      "source": [
        "Y_test = Y_test.reshape(-1,)\n",
        "Y_test[:5]"
      ],
      "metadata": {
        "id": "jKmddGBivVbL"
      },
      "execution_count": null,
      "outputs": []
    },
    {
      "cell_type": "code",
      "source": [
        "plot_sample(X_test, Y_test, 14)"
      ],
      "metadata": {
        "id": "K05g5h63vgUg"
      },
      "execution_count": null,
      "outputs": []
    },
    {
      "cell_type": "code",
      "source": [
        "y_pred = cnn.predict(X_test)\n",
        "y_pred[:5]"
      ],
      "metadata": {
        "id": "N5pUwba3vo78"
      },
      "execution_count": null,
      "outputs": []
    },
    {
      "cell_type": "code",
      "source": [
        "np.argmax(y_pred[1])"
      ],
      "metadata": {
        "id": "PfV8-OVBvxsp"
      },
      "execution_count": null,
      "outputs": []
    },
    {
      "cell_type": "code",
      "source": [
        "y_class = [np.argmax(element) for element in y_pred]\n",
        "y_class[:5]"
      ],
      "metadata": {
        "id": "yCMWx7KZwKZq"
      },
      "execution_count": null,
      "outputs": []
    },
    {
      "cell_type": "code",
      "source": [
        "  cnn.evaluate(X_test, Y_test)"
      ],
      "metadata": {
        "id": "--KAd6C-wVvE"
      },
      "execution_count": null,
      "outputs": []
    },
    {
      "cell_type": "code",
      "source": [
        "Y_test[:5]"
      ],
      "metadata": {
        "id": "gJK0eKQbxvXb"
      },
      "execution_count": null,
      "outputs": []
    },
    {
      "cell_type": "code",
      "source": [],
      "metadata": {
        "id": "YZ2ASgH4xywL"
      },
      "execution_count": null,
      "outputs": []
    }
  ],
  "metadata": {
    "colab": {
      "provenance": [],
      "authorship_tag": "ABX9TyNjdQHPEHN3rBqEtbe8Vo5I",
      "include_colab_link": true
    },
    "kernelspec": {
      "display_name": "Python 3",
      "name": "python3"
    },
    "language_info": {
      "name": "python"
    }
  },
  "nbformat": 4,
  "nbformat_minor": 0
}